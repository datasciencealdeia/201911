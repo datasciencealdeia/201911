{
 "cells": [
  {
   "cell_type": "code",
   "execution_count": null,
   "metadata": {},
   "outputs": [],
   "source": [
    "#DESAFIO KIT KAT (20 min)\n",
    "\n",
    "'''\n",
    "Para este desafio cumpra as tarefas abaixo e apresente a resposta correta ao final\n",
    "1> Conecte com o banco de cidades\n",
    "2> Carregue os dados de países e o nome de sua capital em um data frame\n",
    "3> Crie outro data frame apenas com os dados da linguagem \n",
    "3> Adicione uma nova coluna no data frame chamada DensidadePop que será o resultado da densidade populacional do país\n",
    "4> PERGUNTAS\n",
    "    4.1 > Quais os 5 paises com maior densidade populacional (Nome País, Nome da Capital e Densidade)\n",
    "    4.2 > Quais os 5 paises com menor densidade populacional (Nome País, Nome da Capital e Densidade)\n",
    "    4.3 > Quais os 5 línguas mais faladas no mundo e sua população\n",
    "'''\n",
    "\n",
    "import psycopg2\n",
    "import pandas.io.sql as sqlio\n",
    "import pandas as pd\n",
    "from textwrap import dedent\n",
    "\n",
    "# Conectando ao banco e abrindo um cursor\n",
    "conn = psycopg2.connect(\"dbname='cities' user='dsdb' password='dsdb2019' host='localhost'\")\n",
    "cur = conn.cursor()\n",
    "\n",
    "#3 maiores estados... lembram? - Best Practice para query \"monstro\"\n",
    "\n",
    "sql = dedent(\"\"\"\\\n",
    "  SELECT \n",
    "    p.code as codigo\n",
    "    ,p.name as pais\n",
    "    ,p.surfacearea as area\n",
    "    ,p.population as populacao\n",
    "    ,c.name as capital\n",
    "  FROM \n",
    "    country p \n",
    "    INNER JOIN city as c ON c.id = p.capital\n",
    "    ;\n",
    "  \"\"\")\n",
    "\n",
    "df_paises = sqlio.read_sql_query(sql, conn)"
   ]
  },
  {
   "cell_type": "code",
   "execution_count": null,
   "metadata": {},
   "outputs": [],
   "source": [
    "df_paises['densidade'] = df_paises['populacao'] / df_paises['area']\n",
    "df_paises"
   ]
  },
  {
   "cell_type": "code",
   "execution_count": null,
   "metadata": {},
   "outputs": [],
   "source": [
    "df_ordenado_densidade = df_paises.sort_values('densidade')"
   ]
  },
  {
   "cell_type": "code",
   "execution_count": null,
   "metadata": {},
   "outputs": [],
   "source": [
    "##Menores densidades\n",
    "df_ordenado_densidade[['pais','capital','densidade']].head(5)"
   ]
  },
  {
   "cell_type": "code",
   "execution_count": null,
   "metadata": {},
   "outputs": [],
   "source": [
    "##Maiores densidades\n",
    "df_ordenado_densidade[['pais','capital','densidade']].tail(5)"
   ]
  },
  {
   "cell_type": "code",
   "execution_count": null,
   "metadata": {},
   "outputs": [],
   "source": [
    "##Linguas e Idiomas\n",
    "\n",
    "sql = dedent(\"\"\"\\\n",
    "  SELECT\n",
    "    l.language AS idioma\n",
    "    ,l.percentage AS percentual\n",
    "    ,p.name AS pais\n",
    "    ,p.population AS populacao\n",
    "  FROM\n",
    "    country AS p\n",
    "    INNER JOIN countrylanguage AS l ON l.countrycode=p.code;\n",
    "  \"\"\")\n",
    "\n",
    "df_idiomas = sqlio.read_sql_query(sql, conn)"
   ]
  },
  {
   "cell_type": "code",
   "execution_count": null,
   "metadata": {},
   "outputs": [],
   "source": [
    "df_idiomas['qtde_pessoas_idioma'] = df_idiomas['populacao']*(df_idiomas['percentual']/100.0)\n",
    "df_idiomas"
   ]
  },
  {
   "cell_type": "code",
   "execution_count": null,
   "metadata": {},
   "outputs": [],
   "source": [
    "df_idiomas.groupby('idioma').agg({'qtde_pessoas_idioma': 'sum'}).sort_values('qtde_pessoas_idioma').tail(5)"
   ]
  }
 ],
 "metadata": {
  "kernelspec": {
   "display_name": "Python 3",
   "language": "python",
   "name": "python3"
  },
  "language_info": {
   "codemirror_mode": {
    "name": "ipython",
    "version": 3
   },
   "file_extension": ".py",
   "mimetype": "text/x-python",
   "name": "python",
   "nbconvert_exporter": "python",
   "pygments_lexer": "ipython3",
   "version": "3.7.3"
  }
 },
 "nbformat": 4,
 "nbformat_minor": 2
}
