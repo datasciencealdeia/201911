{
 "cells": [
  {
   "cell_type": "code",
   "execution_count": null,
   "metadata": {
    "scrolled": true
   },
   "outputs": [],
   "source": [
    "#Pandas - Manipulação e Análise de Dados - ver: https://pandas.pydata.org/\n",
    "\n",
    "import pandas as pd\n",
    "\n",
    "pd.read_csv('/home/ds/git/201909/03_dados/auxiliares/exerc_homework.csv')"
   ]
  },
  {
   "cell_type": "code",
   "execution_count": null,
   "metadata": {},
   "outputs": [],
   "source": [
    "#Agora com separador\n",
    "pd.read_csv('/home/ds/git/201907/03_dados/auxiliares/exerc_homework.csv', sep=';')"
   ]
  },
  {
   "cell_type": "code",
   "execution_count": null,
   "metadata": {},
   "outputs": [],
   "source": [
    "#Armazenando em uma variável\n",
    "df = pd.read_csv('/home/ds/git/201907/03_dados/auxiliares/exerc_homework.csv', sep=';')\n",
    "df"
   ]
  },
  {
   "cell_type": "code",
   "execution_count": null,
   "metadata": {},
   "outputs": [],
   "source": [
    "#tipo de dado - DataFrame\n",
    "type(df)"
   ]
  },
  {
   "cell_type": "code",
   "execution_count": null,
   "metadata": {},
   "outputs": [],
   "source": [
    "#indicando nome das colunas - Tem um erro!\n",
    "\n",
    "df = pd.read_csv('/home/ds/git/201907/03_dados/auxiliares/exerc_homework.csv', sep=';', names=['Matricula','Nome','Cargo Atual','Valor Hora R$','Data','Hora Entrada','Hora Saida','Valor Variavel'])\n",
    "df"
   ]
  },
  {
   "cell_type": "code",
   "execution_count": null,
   "metadata": {},
   "outputs": [],
   "source": [
    "#indicando nome das colunas - Agora estah certo?\n",
    "\n",
    "df = pd.read_csv('/home/ds/git/201907/03_dados/auxiliares/exerc_homework.csv', sep=';', names=['Matricula','Nome','Cargo Atual','ValorHora','Data','Hora Entrada','Hora Saida','Valor Variavel'], header=1)\n",
    "df"
   ]
  },
  {
   "cell_type": "code",
   "execution_count": null,
   "metadata": {},
   "outputs": [],
   "source": [
    "#indicando nome das colunas - Agora estah certo?\n",
    "\n",
    "df = pd.read_csv('/home/ds/git/201907/03_dados/auxiliares/exerc_homework.csv', sep=';', names=['Matricula','Nome','Cargo Atual','ValorHora','Data','Hora Entrada','Hora Saida','Valor Variavel'], header=1, dtype={'Matricula': str})\n",
    "df\n"
   ]
  },
  {
   "cell_type": "code",
   "execution_count": null,
   "metadata": {},
   "outputs": [],
   "source": [
    "#Com o nosso Data Frame podemos aplicar alguns metodos... quais? objeto. + <tab>\n",
    "\n",
    "#df.\n",
    "\n",
    "#Somente alguns atributos do data frame\n",
    "df[['Matricula','Nome','ValorHora']]"
   ]
  },
  {
   "cell_type": "code",
   "execution_count": null,
   "metadata": {},
   "outputs": [],
   "source": [
    "pd.options.display.float_format = '{:,.2f}'.format\n",
    "df[['Matricula','Nome','ValorHora']]"
   ]
  },
  {
   "cell_type": "code",
   "execution_count": null,
   "metadata": {},
   "outputs": [],
   "source": [
    "short_df = df[['Matricula','Nome','ValorHora']]\n",
    "\n",
    "short_df"
   ]
  },
  {
   "cell_type": "code",
   "execution_count": null,
   "metadata": {},
   "outputs": [],
   "source": [
    "#Informacoes sobre o Data Frame\n",
    "short_df.describe()"
   ]
  },
  {
   "cell_type": "code",
   "execution_count": null,
   "metadata": {},
   "outputs": [],
   "source": [
    "#Media de um determinado campo\n",
    "short_df[\"ValorHora\"].mean()"
   ]
  },
  {
   "cell_type": "code",
   "execution_count": null,
   "metadata": {},
   "outputs": [],
   "source": [
    "#Mediana de um determinado campo\n",
    "short_df[\"ValorHora\"].median()"
   ]
  },
  {
   "cell_type": "code",
   "execution_count": null,
   "metadata": {},
   "outputs": [],
   "source": [
    "#Moda de um determinado campo\n",
    "short_df[\"ValorHora\"].mode()"
   ]
  },
  {
   "cell_type": "code",
   "execution_count": null,
   "metadata": {},
   "outputs": [],
   "source": [
    "#Desvio Padrao de um determinado campo\n",
    "short_df[\"ValorHora\"].std()"
   ]
  },
  {
   "cell_type": "code",
   "execution_count": null,
   "metadata": {},
   "outputs": [],
   "source": [
    "#Seleciona um determinado valor no Data Frame\n",
    "\n",
    "short_df[short_df.Matricula == '0001']"
   ]
  },
  {
   "cell_type": "code",
   "execution_count": null,
   "metadata": {},
   "outputs": [],
   "source": [
    "#Valores distintos\n",
    "\n",
    "short_df.Matricula.unique()"
   ]
  },
  {
   "cell_type": "code",
   "execution_count": null,
   "metadata": {},
   "outputs": [],
   "source": [
    "#Remover valores duplicados\n",
    "short_df.drop_duplicates('Matricula')"
   ]
  },
  {
   "cell_type": "code",
   "execution_count": null,
   "metadata": {},
   "outputs": [],
   "source": [
    "#O que deu errado?\n",
    "\n",
    "short_df"
   ]
  },
  {
   "cell_type": "code",
   "execution_count": null,
   "metadata": {},
   "outputs": [],
   "source": [
    "#Remover valores duplicados\n",
    "short_df = short_df.drop_duplicates('Matricula')\n",
    "\n",
    "short_df"
   ]
  },
  {
   "cell_type": "code",
   "execution_count": null,
   "metadata": {},
   "outputs": [],
   "source": [
    "#Nova Media de um determinado campo\n",
    "short_df[\"ValorHora\"].mean()"
   ]
  },
  {
   "cell_type": "code",
   "execution_count": null,
   "metadata": {},
   "outputs": [],
   "source": [
    "#Mediana de um determinado campo\n",
    "short_df[\"ValorHora\"].median()"
   ]
  },
  {
   "cell_type": "code",
   "execution_count": null,
   "metadata": {},
   "outputs": [],
   "source": [
    "#Moda de um determinado campo\n",
    "short_df[\"ValorHora\"].mode()"
   ]
  },
  {
   "cell_type": "code",
   "execution_count": null,
   "metadata": {},
   "outputs": [],
   "source": [
    "#Desvio Padrao de um determinado campo\n",
    "short_df[\"ValorHora\"].std()"
   ]
  },
  {
   "cell_type": "code",
   "execution_count": null,
   "metadata": {},
   "outputs": [],
   "source": [
    "#O que estamos fazendo abaixo?\n",
    "\n",
    "short_df['media']= short_df['ValorHora'].median()\n",
    "short_df['desvio']= short_df['ValorHora'].std()\n",
    "\n",
    "#filter setup\n",
    "short_df2 = short_df[(short_df.ValorHora <= short_df['media']+3*short_df['desvio']) & (short_df.ValorHora >= short_df['media']-3*short_df['desvio'])]\n",
    "\n",
    "short_df2"
   ]
  },
  {
   "cell_type": "code",
   "execution_count": null,
   "metadata": {},
   "outputs": [],
   "source": [
    "#enviando resultado para .csv\n",
    "\n",
    "short_df2.to_csv('/home/ds/git/201907/03_dados/auxiliares/analise_python.csv',sep=';')"
   ]
  },
  {
   "cell_type": "code",
   "execution_count": null,
   "metadata": {},
   "outputs": [],
   "source": [
    "%matplotlib inline\n",
    "\n",
    "import matplotlib\n",
    "import numpy as np\n",
    "import matplotlib.pyplot as plt\n",
    "\n",
    "short_df.hist()"
   ]
  },
  {
   "cell_type": "code",
   "execution_count": null,
   "metadata": {},
   "outputs": [],
   "source": [
    "#histograma\n",
    "\n",
    "short_df.hist('ValorHora')"
   ]
  },
  {
   "cell_type": "code",
   "execution_count": null,
   "metadata": {},
   "outputs": [],
   "source": [
    "#Grafico de barras\n",
    "\n",
    "velocidade = [0.1, 17.5, 40, 48, 52, 69, 88]\n",
    "tempo_vida = [2, 8, 70, 1.5, 25, 12, 28]\n",
    "animal = ['cobra', 'porco', 'elefante','coelho', 'girafa', 'coiote', 'cavalo']\n",
    "df_animais = pd.DataFrame({'animal' : animal, 'velocidade': velocidade,'tempo_vida': tempo_vida}, index=animal)\n",
    "ax = df_animais.plot.bar(rot=0)"
   ]
  },
  {
   "cell_type": "code",
   "execution_count": null,
   "metadata": {},
   "outputs": [],
   "source": [
    "#dispersao\n",
    "\n",
    "import matplotlib.pyplot as plt\n",
    "\n",
    "df_animais.plot(kind='scatter',x='velocidade',y='tempo_vida',color='red')\n",
    "plt.show()"
   ]
  },
  {
   "cell_type": "code",
   "execution_count": null,
   "metadata": {},
   "outputs": [],
   "source": [
    "#Analisando graficos em conjunto\n",
    "\n",
    "ax = plt.gca()\n",
    "\n",
    "df_animais.plot(kind='line',x='animal', y='velocidade', ax=ax)\n",
    "df_animais.plot(kind='line',x='animal', y='tempo_vida', color='red', ax=ax)\n",
    "\n",
    "plt.xticks(np.arange(len(df_animais.index)), df_animais.animal)\n",
    "\n",
    "plt.show()"
   ]
  },
  {
   "cell_type": "code",
   "execution_count": null,
   "metadata": {},
   "outputs": [],
   "source": [
    "#Salvando o grafico\n",
    "\n",
    "ax = plt.gca()\n",
    "\n",
    "df_animais.plot(kind='line',x='animal', y='velocidade', ax=ax)\n",
    "df_animais.plot(kind='line',x='animal', y='tempo_vida', color='red', ax=ax)\n",
    "\n",
    "plt.xticks(np.arange(len(df_animais.index)), df_animais.animal)\n",
    "\n",
    "plt.savefig('/home/ds/git/201907/02_scripts/python/animais.png')"
   ]
  },
  {
   "cell_type": "code",
   "execution_count": null,
   "metadata": {},
   "outputs": [],
   "source": [
    "#order by\n",
    "\n",
    "df_animais.sort_values('animal')"
   ]
  },
  {
   "cell_type": "code",
   "execution_count": null,
   "metadata": {},
   "outputs": [],
   "source": [
    "#group by\n",
    "vl_exp = [10000, 2000, 1500, 2500, 3000, 15000, 1400, 3000]\n",
    "mes_ano = [201901, 201901, 201901, 201901, 201902, 201902, 201902, 201902]\n",
    "commodities = ['soja', 'milho', 'aveia', 'café', 'soja', 'milho', 'trigo', 'café']\n",
    "df_exp = pd.DataFrame({'commodities' : commodities, 'mes_ano': mes_ano,'vl_exportacao': vl_exp}, index=mes_ano)\n",
    "df_exp.groupby('commodities').agg({'vl_exportacao': 'sum'}).sort_values('vl_exportacao')"
   ]
  },
  {
   "cell_type": "code",
   "execution_count": null,
   "metadata": {},
   "outputs": [],
   "source": [
    "df_exp.groupby('commodities')[['vl_exportacao']].sum()"
   ]
  },
  {
   "cell_type": "code",
   "execution_count": null,
   "metadata": {},
   "outputs": [],
   "source": [
    "#Group by com aggregate\n",
    "\n",
    "df_exp.groupby('commodities').agg({'vl_exportacao': 'sum'})"
   ]
  },
  {
   "cell_type": "code",
   "execution_count": null,
   "metadata": {},
   "outputs": [],
   "source": [
    "#Order by + Group By\n",
    "df_exp.groupby('commodities').agg({'vl_exportacao': 'sum'}).sort_values('vl_exportacao')"
   ]
  }
 ],
 "metadata": {
  "kernelspec": {
   "display_name": "Python 3",
   "language": "python",
   "name": "python3"
  },
  "language_info": {
   "codemirror_mode": {
    "name": "ipython",
    "version": 3
   },
   "file_extension": ".py",
   "mimetype": "text/x-python",
   "name": "python",
   "nbconvert_exporter": "python",
   "pygments_lexer": "ipython3",
   "version": "3.7.3"
  }
 },
 "nbformat": 4,
 "nbformat_minor": 2
}
