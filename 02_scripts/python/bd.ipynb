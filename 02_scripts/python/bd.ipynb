{
 "cells": [
  {
   "cell_type": "code",
   "execution_count": null,
   "metadata": {},
   "outputs": [],
   "source": [
    "#Psycopg2 - Acessando nosso banco PostgreSQL - https://pypi.org/project/psycopg2/\n",
    "\n",
    "import psycopg2"
   ]
  },
  {
   "cell_type": "code",
   "execution_count": null,
   "metadata": {},
   "outputs": [],
   "source": [
    "# Conectando ao banco e abrindo um cursor\n",
    "conn = psycopg2.connect(\"dbname='datascience' user='dsdb' password='dsdb2019' host='localhost'\")\n",
    "cur = conn.cursor()\n"
   ]
  },
  {
   "cell_type": "code",
   "execution_count": null,
   "metadata": {},
   "outputs": [],
   "source": [
    "# Query com o banco usando SQL\n",
    "cur.execute(\"SELECT * FROM ds_pais\")            \n",
    "cur.fetchone()\n"
   ]
  },
  {
   "cell_type": "code",
   "execution_count": null,
   "metadata": {},
   "outputs": [],
   "source": [
    "cur.fetchone()"
   ]
  },
  {
   "cell_type": "code",
   "execution_count": null,
   "metadata": {},
   "outputs": [],
   "source": [
    "cur.fetchone()"
   ]
  },
  {
   "cell_type": "code",
   "execution_count": null,
   "metadata": {},
   "outputs": [],
   "source": [
    "# Query com o banco usando SQL\n",
    "cur.execute(\"SELECT * FROM ds_pais LIMIT 10\")            \n",
    "cur.fetchall()\n"
   ]
  },
  {
   "cell_type": "code",
   "execution_count": null,
   "metadata": {},
   "outputs": [],
   "source": [
    "#3 maiores estados... lembram? - Best Practice para query \"monstro\"\n",
    "\n",
    "sql = (\"SELECT \"\n",
    "            \"n.co_ncm \"\n",
    "            \",n.no_ncm_por \"\n",
    "            \",e.co_uf \"\n",
    "            \",TO_CHAR(sum(e.qt_estat), '9G999G999G999G999') as total_toneladas \"\n",
    "        \"FROM \"\n",
    "        \"ds_exportacoes as e \"\n",
    "        \"INNER JOIN ds_ncm as n ON e.co_ncm = n.co_ncm \"\n",
    "        \"WHERE \"\n",
    "            \"n.co_ncm = '12019000' \"\n",
    "            \"AND e.co_ano between '2014' and '2018' \"\n",
    "        \"GROUP BY \"\n",
    "            \"n.co_ncm \"\n",
    "            \",n.no_ncm_por \"\n",
    "            \",e.co_uf \"\n",
    "        \"ORDER BY \"\n",
    "            \"sum(e.qt_estat) DESC \"\n",
    "        \"LIMIT 3; \")\n",
    "\n",
    "cur.execute(sql)            \n",
    "cur.fetchall()"
   ]
  },
  {
   "cell_type": "code",
   "execution_count": null,
   "metadata": {},
   "outputs": [],
   "source": [
    "#3 maiores estados... retorno em uma variavel\n",
    "\n",
    "cur.execute(sql)            \n",
    "resultado_sql=cur.fetchall()"
   ]
  },
  {
   "cell_type": "code",
   "execution_count": null,
   "metadata": {},
   "outputs": [],
   "source": [
    "#Qual o tipo do dado retornado?\n",
    "\n",
    "type(resultado_sql)"
   ]
  },
  {
   "cell_type": "code",
   "execution_count": null,
   "metadata": {},
   "outputs": [],
   "source": [
    "#Ah, mas eu queria usar no Pandas... com Data Frame. Nao priamos canico!\n",
    "\n",
    "import pandas.io.sql as sqlio\n",
    "\n",
    "df_result_sql = sqlio.read_sql_query(sql, conn)\n"
   ]
  },
  {
   "cell_type": "code",
   "execution_count": null,
   "metadata": {},
   "outputs": [],
   "source": [
    "type(df_result_sql)"
   ]
  },
  {
   "cell_type": "code",
   "execution_count": null,
   "metadata": {},
   "outputs": [],
   "source": [
    "df_result_sql"
   ]
  },
  {
   "cell_type": "code",
   "execution_count": null,
   "metadata": {},
   "outputs": [],
   "source": [
    "df_result_sql.describe()"
   ]
  },
  {
   "cell_type": "code",
   "execution_count": null,
   "metadata": {},
   "outputs": [],
   "source": [
    "#GOOD PRACTICE - Feche suas conexoes com o banco quando acabar por favor\n",
    "conn = None\n",
    "cur = None"
   ]
  },
  {
   "cell_type": "code",
   "execution_count": null,
   "metadata": {},
   "outputs": [],
   "source": [
    "#DESAFIO KIT KAT (20 min)\n",
    "\n",
    "'''\n",
    "Para este desafio cumpra as tarefas abaixo e apresente a resposta correta ao final\n",
    "1> Conecte com o banco de cidades\n",
    "2> Carregue os dados de países e o nome de sua capital em um data frame\n",
    "3> Crie outro data frame apenas com os dados da linguagem \n",
    "3> Adicione uma nova coluna no data frame chamada DensidadePop que será o resultado da densidade populacional do país\n",
    "4> PERGUNTAS\n",
    "    4.1 > Quais os 5 paises com maior densidade populacional (Nome País, Nome da Capital e Densidade)\n",
    "    4.2 > Quais os 5 paises com menor densidade populacional (Nome País, Nome da Capital e Densidade)\n",
    "    4.3 > Quais os 5 línguas mais faladas no mundo e sua população\n",
    "'''"
   ]
  }
 ],
 "metadata": {
  "kernelspec": {
   "display_name": "Python 3",
   "language": "python",
   "name": "python3"
  },
  "language_info": {
   "codemirror_mode": {
    "name": "ipython",
    "version": 3
   },
   "file_extension": ".py",
   "mimetype": "text/x-python",
   "name": "python",
   "nbconvert_exporter": "python",
   "pygments_lexer": "ipython3",
   "version": "3.7.3"
  }
 },
 "nbformat": 4,
 "nbformat_minor": 2
}
